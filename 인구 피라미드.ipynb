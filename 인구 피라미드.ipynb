{
 "cells": [
  {
   "cell_type": "markdown",
   "id": "58daf653",
   "metadata": {},
   "source": [
    "# 2012년 7월 인구 피라미드"
   ]
  },
  {
   "cell_type": "markdown",
   "id": "03ea9bc2",
   "metadata": {},
   "source": [
    "## 남성 데이터 정의"
   ]
  },
  {
   "cell_type": "code",
   "execution_count": 1,
   "id": "b78f91c0",
   "metadata": {},
   "outputs": [
    {
     "name": "stderr",
     "output_type": "stream",
     "text": [
      "C:\\Users\\SAMSUNG\\anaconda3\\lib\\site-packages\\openpyxl\\styles\\stylesheet.py:226: UserWarning: Workbook contains no default style, apply openpyxl's default\n",
      "  warn(\"Workbook contains no default style, apply openpyxl's default\")\n"
     ]
    },
    {
     "data": {
      "text/html": [
       "<div>\n",
       "<style scoped>\n",
       "    .dataframe tbody tr th:only-of-type {\n",
       "        vertical-align: middle;\n",
       "    }\n",
       "\n",
       "    .dataframe tbody tr th {\n",
       "        vertical-align: top;\n",
       "    }\n",
       "\n",
       "    .dataframe thead th {\n",
       "        text-align: right;\n",
       "    }\n",
       "</style>\n",
       "<table border=\"1\" class=\"dataframe\">\n",
       "  <thead>\n",
       "    <tr style=\"text-align: right;\">\n",
       "      <th></th>\n",
       "      <th>0~4세</th>\n",
       "      <th>5~9세</th>\n",
       "      <th>10~14세</th>\n",
       "      <th>15~19세</th>\n",
       "      <th>20~24세</th>\n",
       "      <th>25~29세</th>\n",
       "      <th>30~34세</th>\n",
       "      <th>35~39세</th>\n",
       "      <th>40~44세</th>\n",
       "      <th>45~49세</th>\n",
       "      <th>...</th>\n",
       "      <th>55~59세</th>\n",
       "      <th>60~64세</th>\n",
       "      <th>65~69세</th>\n",
       "      <th>70~74세</th>\n",
       "      <th>75~79세</th>\n",
       "      <th>80~84세</th>\n",
       "      <th>85~89세</th>\n",
       "      <th>90~94세</th>\n",
       "      <th>95~99세</th>\n",
       "      <th>100세 이상</th>\n",
       "    </tr>\n",
       "    <tr>\n",
       "      <th>행정기관</th>\n",
       "      <th></th>\n",
       "      <th></th>\n",
       "      <th></th>\n",
       "      <th></th>\n",
       "      <th></th>\n",
       "      <th></th>\n",
       "      <th></th>\n",
       "      <th></th>\n",
       "      <th></th>\n",
       "      <th></th>\n",
       "      <th></th>\n",
       "      <th></th>\n",
       "      <th></th>\n",
       "      <th></th>\n",
       "      <th></th>\n",
       "      <th></th>\n",
       "      <th></th>\n",
       "      <th></th>\n",
       "      <th></th>\n",
       "      <th></th>\n",
       "      <th></th>\n",
       "    </tr>\n",
       "  </thead>\n",
       "  <tbody>\n",
       "    <tr>\n",
       "      <th>전국</th>\n",
       "      <td>1,198,690</td>\n",
       "      <td>1,206,194</td>\n",
       "      <td>1,585,781</td>\n",
       "      <td>1,864,217</td>\n",
       "      <td>1,721,885</td>\n",
       "      <td>1,744,565</td>\n",
       "      <td>2,079,194</td>\n",
       "      <td>2,111,158</td>\n",
       "      <td>2,356,935</td>\n",
       "      <td>2,167,507</td>\n",
       "      <td>...</td>\n",
       "      <td>1,629,704</td>\n",
       "      <td>1,175,008</td>\n",
       "      <td>893,934</td>\n",
       "      <td>751,664</td>\n",
       "      <td>454,399</td>\n",
       "      <td>202,418</td>\n",
       "      <td>78,930</td>\n",
       "      <td>24,531</td>\n",
       "      <td>5,004</td>\n",
       "      <td>2,818</td>\n",
       "    </tr>\n",
       "  </tbody>\n",
       "</table>\n",
       "<p>1 rows × 21 columns</p>\n",
       "</div>"
      ],
      "text/plain": [
       "           0~4세       5~9세     10~14세     15~19세     20~24세     25~29세  \\\n",
       "행정기관                                                                     \n",
       "전국    1,198,690  1,206,194  1,585,781  1,864,217  1,721,885  1,744,565   \n",
       "\n",
       "         30~34세     35~39세     40~44세     45~49세  ...     55~59세     60~64세  \\\n",
       "행정기관                                              ...                         \n",
       "전국    2,079,194  2,111,158  2,356,935  2,167,507  ...  1,629,704  1,175,008   \n",
       "\n",
       "       65~69세   70~74세   75~79세   80~84세  85~89세  90~94세 95~99세 100세 이상  \n",
       "행정기관                                                                     \n",
       "전국    893,934  751,664  454,399  202,418  78,930  24,531  5,004   2,818  \n",
       "\n",
       "[1 rows x 21 columns]"
      ]
     },
     "execution_count": 1,
     "metadata": {},
     "output_type": "execute_result"
    }
   ],
   "source": [
    "import pandas as pd\n",
    "file_name = '201207_201207_연령별인구현황_월간.xlsx'\n",
    "df_m = pd.read_excel(file_name, index_col='행정기관', skiprows=3, usecols='B, E:Y')\n",
    "df_m.head(1)"
   ]
  },
  {
   "cell_type": "code",
   "execution_count": 2,
   "id": "443bdbc9",
   "metadata": {},
   "outputs": [],
   "source": [
    "df_m.iloc[0] = df_m.iloc[0].str.replace(',', '').astype(int) # 콤마 지우기 및 정수형 변환"
   ]
  },
  {
   "cell_type": "code",
   "execution_count": 3,
   "id": "9f0367a6",
   "metadata": {},
   "outputs": [
    {
     "data": {
      "text/plain": [
       "0~4세       1198690\n",
       "5~9세       1206194\n",
       "10~14세     1585781\n",
       "15~19세     1864217\n",
       "20~24세     1721885\n",
       "25~29세     1744565\n",
       "30~34세     2079194\n",
       "35~39세     2111158\n",
       "40~44세     2356935\n",
       "45~49세     2167507\n",
       "50~54세     2205878\n",
       "55~59세     1629704\n",
       "60~64세     1175008\n",
       "65~69세      893934\n",
       "70~74세      751664\n",
       "75~79세      454399\n",
       "80~84세      202418\n",
       "85~89세       78930\n",
       "90~94세       24531\n",
       "95~99세        5004\n",
       "100세 이상       2818\n",
       "Name: 전국  , dtype: object"
      ]
     },
     "execution_count": 3,
     "metadata": {},
     "output_type": "execute_result"
    }
   ],
   "source": [
    "df_m.iloc[0]"
   ]
  },
  {
   "cell_type": "markdown",
   "id": "c6cab7b5",
   "metadata": {},
   "source": [
    "## 여성 데이터 정의"
   ]
  },
  {
   "cell_type": "code",
   "execution_count": 4,
   "id": "3d354b7e",
   "metadata": {},
   "outputs": [
    {
     "name": "stderr",
     "output_type": "stream",
     "text": [
      "C:\\Users\\SAMSUNG\\anaconda3\\lib\\site-packages\\openpyxl\\styles\\stylesheet.py:226: UserWarning: Workbook contains no default style, apply openpyxl's default\n",
      "  warn(\"Workbook contains no default style, apply openpyxl's default\")\n"
     ]
    },
    {
     "data": {
      "text/html": [
       "<div>\n",
       "<style scoped>\n",
       "    .dataframe tbody tr th:only-of-type {\n",
       "        vertical-align: middle;\n",
       "    }\n",
       "\n",
       "    .dataframe tbody tr th {\n",
       "        vertical-align: top;\n",
       "    }\n",
       "\n",
       "    .dataframe thead th {\n",
       "        text-align: right;\n",
       "    }\n",
       "</style>\n",
       "<table border=\"1\" class=\"dataframe\">\n",
       "  <thead>\n",
       "    <tr style=\"text-align: right;\">\n",
       "      <th></th>\n",
       "      <th>0~4세.1</th>\n",
       "      <th>5~9세.1</th>\n",
       "      <th>10~14세.1</th>\n",
       "      <th>15~19세.1</th>\n",
       "      <th>20~24세.1</th>\n",
       "      <th>25~29세.1</th>\n",
       "      <th>30~34세.1</th>\n",
       "      <th>35~39세.1</th>\n",
       "      <th>40~44세.1</th>\n",
       "      <th>45~49세.1</th>\n",
       "      <th>...</th>\n",
       "      <th>55~59세.1</th>\n",
       "      <th>60~64세.1</th>\n",
       "      <th>65~69세.1</th>\n",
       "      <th>70~74세.1</th>\n",
       "      <th>75~79세.1</th>\n",
       "      <th>80~84세.1</th>\n",
       "      <th>85~89세.1</th>\n",
       "      <th>90~94세.1</th>\n",
       "      <th>95~99세.1</th>\n",
       "      <th>100세 이상.1</th>\n",
       "    </tr>\n",
       "    <tr>\n",
       "      <th>행정기관</th>\n",
       "      <th></th>\n",
       "      <th></th>\n",
       "      <th></th>\n",
       "      <th></th>\n",
       "      <th></th>\n",
       "      <th></th>\n",
       "      <th></th>\n",
       "      <th></th>\n",
       "      <th></th>\n",
       "      <th></th>\n",
       "      <th></th>\n",
       "      <th></th>\n",
       "      <th></th>\n",
       "      <th></th>\n",
       "      <th></th>\n",
       "      <th></th>\n",
       "      <th></th>\n",
       "      <th></th>\n",
       "      <th></th>\n",
       "      <th></th>\n",
       "      <th></th>\n",
       "    </tr>\n",
       "  </thead>\n",
       "  <tbody>\n",
       "    <tr>\n",
       "      <th>전국</th>\n",
       "      <td>1,129,941</td>\n",
       "      <td>1,121,523</td>\n",
       "      <td>1,451,920</td>\n",
       "      <td>1,654,308</td>\n",
       "      <td>1,545,275</td>\n",
       "      <td>1,637,498</td>\n",
       "      <td>1,994,899</td>\n",
       "      <td>2,033,214</td>\n",
       "      <td>2,269,726</td>\n",
       "      <td>2,063,393</td>\n",
       "      <td>...</td>\n",
       "      <td>1,642,337</td>\n",
       "      <td>1,224,176</td>\n",
       "      <td>1,013,067</td>\n",
       "      <td>963,372</td>\n",
       "      <td>719,170</td>\n",
       "      <td>441,469</td>\n",
       "      <td>213,960</td>\n",
       "      <td>77,722</td>\n",
       "      <td>19,914</td>\n",
       "      <td>9,362</td>\n",
       "    </tr>\n",
       "  </tbody>\n",
       "</table>\n",
       "<p>1 rows × 21 columns</p>\n",
       "</div>"
      ],
      "text/plain": [
       "         0~4세.1     5~9세.1   10~14세.1   15~19세.1   20~24세.1   25~29세.1  \\\n",
       "행정기관                                                                     \n",
       "전국    1,129,941  1,121,523  1,451,920  1,654,308  1,545,275  1,637,498   \n",
       "\n",
       "       30~34세.1   35~39세.1   40~44세.1   45~49세.1  ...   55~59세.1   60~64세.1  \\\n",
       "행정기관                                              ...                         \n",
       "전국    1,994,899  2,033,214  2,269,726  2,063,393  ...  1,642,337  1,224,176   \n",
       "\n",
       "       65~69세.1 70~74세.1 75~79세.1 80~84세.1 85~89세.1 90~94세.1 95~99세.1  \\\n",
       "행정기관                                                                    \n",
       "전국    1,013,067  963,372  719,170  441,469  213,960   77,722   19,914   \n",
       "\n",
       "     100세 이상.1  \n",
       "행정기관            \n",
       "전국       9,362  \n",
       "\n",
       "[1 rows x 21 columns]"
      ]
     },
     "execution_count": 4,
     "metadata": {},
     "output_type": "execute_result"
    }
   ],
   "source": [
    "df_w = pd.read_excel(file_name, index_col='행정기관', skiprows=3, usecols='B, AB:AV')\n",
    "df_w.head(1)"
   ]
  },
  {
   "cell_type": "code",
   "execution_count": 5,
   "id": "a30bb624",
   "metadata": {},
   "outputs": [
    {
     "data": {
      "text/html": [
       "<div>\n",
       "<style scoped>\n",
       "    .dataframe tbody tr th:only-of-type {\n",
       "        vertical-align: middle;\n",
       "    }\n",
       "\n",
       "    .dataframe tbody tr th {\n",
       "        vertical-align: top;\n",
       "    }\n",
       "\n",
       "    .dataframe thead th {\n",
       "        text-align: right;\n",
       "    }\n",
       "</style>\n",
       "<table border=\"1\" class=\"dataframe\">\n",
       "  <thead>\n",
       "    <tr style=\"text-align: right;\">\n",
       "      <th></th>\n",
       "      <th>0~4세</th>\n",
       "      <th>5~9세</th>\n",
       "      <th>10~14세</th>\n",
       "      <th>15~19세</th>\n",
       "      <th>20~24세</th>\n",
       "      <th>25~29세</th>\n",
       "      <th>30~34세</th>\n",
       "      <th>35~39세</th>\n",
       "      <th>40~44세</th>\n",
       "      <th>45~49세</th>\n",
       "      <th>...</th>\n",
       "      <th>55~59세</th>\n",
       "      <th>60~64세</th>\n",
       "      <th>65~69세</th>\n",
       "      <th>70~74세</th>\n",
       "      <th>75~79세</th>\n",
       "      <th>80~84세</th>\n",
       "      <th>85~89세</th>\n",
       "      <th>90~94세</th>\n",
       "      <th>95~99세</th>\n",
       "      <th>100세 이상</th>\n",
       "    </tr>\n",
       "    <tr>\n",
       "      <th>행정기관</th>\n",
       "      <th></th>\n",
       "      <th></th>\n",
       "      <th></th>\n",
       "      <th></th>\n",
       "      <th></th>\n",
       "      <th></th>\n",
       "      <th></th>\n",
       "      <th></th>\n",
       "      <th></th>\n",
       "      <th></th>\n",
       "      <th></th>\n",
       "      <th></th>\n",
       "      <th></th>\n",
       "      <th></th>\n",
       "      <th></th>\n",
       "      <th></th>\n",
       "      <th></th>\n",
       "      <th></th>\n",
       "      <th></th>\n",
       "      <th></th>\n",
       "      <th></th>\n",
       "    </tr>\n",
       "  </thead>\n",
       "  <tbody>\n",
       "    <tr>\n",
       "      <th>전국</th>\n",
       "      <td>1,129,941</td>\n",
       "      <td>1,121,523</td>\n",
       "      <td>1,451,920</td>\n",
       "      <td>1,654,308</td>\n",
       "      <td>1,545,275</td>\n",
       "      <td>1,637,498</td>\n",
       "      <td>1,994,899</td>\n",
       "      <td>2,033,214</td>\n",
       "      <td>2,269,726</td>\n",
       "      <td>2,063,393</td>\n",
       "      <td>...</td>\n",
       "      <td>1,642,337</td>\n",
       "      <td>1,224,176</td>\n",
       "      <td>1,013,067</td>\n",
       "      <td>963,372</td>\n",
       "      <td>719,170</td>\n",
       "      <td>441,469</td>\n",
       "      <td>213,960</td>\n",
       "      <td>77,722</td>\n",
       "      <td>19,914</td>\n",
       "      <td>9,362</td>\n",
       "    </tr>\n",
       "  </tbody>\n",
       "</table>\n",
       "<p>1 rows × 21 columns</p>\n",
       "</div>"
      ],
      "text/plain": [
       "           0~4세       5~9세     10~14세     15~19세     20~24세     25~29세  \\\n",
       "행정기관                                                                     \n",
       "전국    1,129,941  1,121,523  1,451,920  1,654,308  1,545,275  1,637,498   \n",
       "\n",
       "         30~34세     35~39세     40~44세     45~49세  ...     55~59세     60~64세  \\\n",
       "행정기관                                              ...                         \n",
       "전국    1,994,899  2,033,214  2,269,726  2,063,393  ...  1,642,337  1,224,176   \n",
       "\n",
       "         65~69세   70~74세   75~79세   80~84세   85~89세  90~94세  95~99세 100세 이상  \n",
       "행정기관                                                                         \n",
       "전국    1,013,067  963,372  719,170  441,469  213,960  77,722  19,914   9,362  \n",
       "\n",
       "[1 rows x 21 columns]"
      ]
     },
     "execution_count": 5,
     "metadata": {},
     "output_type": "execute_result"
    }
   ],
   "source": [
    "df_w.columns = df_m.columns # 여성 데이터 col 이름 설정\n",
    "df_w.head(1)"
   ]
  },
  {
   "cell_type": "code",
   "execution_count": 6,
   "id": "9de8b591",
   "metadata": {},
   "outputs": [],
   "source": [
    "df_w.iloc[0] = df_w.iloc[0].str.replace(',', '').astype(int)"
   ]
  },
  {
   "cell_type": "code",
   "execution_count": 7,
   "id": "58c3ec88",
   "metadata": {},
   "outputs": [
    {
     "data": {
      "text/plain": [
       "0~4세       1129941\n",
       "5~9세       1121523\n",
       "10~14세     1451920\n",
       "15~19세     1654308\n",
       "20~24세     1545275\n",
       "25~29세     1637498\n",
       "30~34세     1994899\n",
       "35~39세     2033214\n",
       "40~44세     2269726\n",
       "45~49세     2063393\n",
       "50~54세     2164422\n",
       "55~59세     1642337\n",
       "60~64세     1224176\n",
       "65~69세     1013067\n",
       "70~74세      963372\n",
       "75~79세      719170\n",
       "80~84세      441469\n",
       "85~89세      213960\n",
       "90~94세       77722\n",
       "95~99세       19914\n",
       "100세 이상       9362\n",
       "Name: 전국  , dtype: object"
      ]
     },
     "execution_count": 7,
     "metadata": {},
     "output_type": "execute_result"
    }
   ],
   "source": [
    "df_w.iloc[0]"
   ]
  },
  {
   "cell_type": "markdown",
   "id": "7c93cf09",
   "metadata": {},
   "source": [
    "## 데이터 시각화"
   ]
  },
  {
   "cell_type": "code",
   "execution_count": 8,
   "id": "f3a48efe",
   "metadata": {},
   "outputs": [],
   "source": [
    "import matplotlib.pyplot as plt\n",
    "import matplotlib\n",
    "matplotlib.rcParams['font.family'] = 'Malgun Gothic'\n",
    "matplotlib.rcParams['font.size'] = 15\n",
    "matplotlib.rcParams['axes.unicode_minus'] = False"
   ]
  },
  {
   "cell_type": "code",
   "execution_count": 9,
   "id": "fe91643a",
   "metadata": {},
   "outputs": [
    {
     "data": {
      "image/png": "[encoded data removed]",
      "text/plain": [
       "<Figure size 720x504 with 1 Axes>"
      ]
     },
     "metadata": {
      "needs_background": "light"
     },
     "output_type": "display_data"
    }
   ],
   "source": [
    "plt.figure(figsize=(10, 7))\n",
    "plt.barh(df_m.columns, -df_m.iloc[0] // 1000, label='남성') # (단위 : 천 명)\n",
    "plt.barh(df_w.columns, df_w.iloc[0] // 1000, label='여성')\n",
    "plt.title('2012년 7월 대한민국 인구 피라미드')\n",
    "plt.legend()\n",
    "plt.savefig('201207_인구피라미드.png', dpi=100)\n",
    "plt.show()"
   ]
  },
  {
   "cell_type": "markdown",
   "id": "6523aa93",
   "metadata": {},
   "source": [
    "---\n",
    "# 2022년 7월 인구 피라미드"
   ]
  },
  {
   "cell_type": "markdown",
   "id": "a9d28e76",
   "metadata": {},
   "source": [
    "## 남성 데이터 정의"
   ]
  },
  {
   "cell_type": "code",
   "execution_count": 10,
   "id": "b1ca10cc",
   "metadata": {},
   "outputs": [
    {
     "name": "stderr",
     "output_type": "stream",
     "text": [
      "C:\\Users\\SAMSUNG\\anaconda3\\lib\\site-packages\\openpyxl\\styles\\stylesheet.py:226: UserWarning: Workbook contains no default style, apply openpyxl's default\n",
      "  warn(\"Workbook contains no default style, apply openpyxl's default\")\n"
     ]
    },
    {
     "data": {
      "text/html": [
       "<div>\n",
       "<style scoped>\n",
       "    .dataframe tbody tr th:only-of-type {\n",
       "        vertical-align: middle;\n",
       "    }\n",
       "\n",
       "    .dataframe tbody tr th {\n",
       "        vertical-align: top;\n",
       "    }\n",
       "\n",
       "    .dataframe thead th {\n",
       "        text-align: right;\n",
       "    }\n",
       "</style>\n",
       "<table border=\"1\" class=\"dataframe\">\n",
       "  <thead>\n",
       "    <tr style=\"text-align: right;\">\n",
       "      <th></th>\n",
       "      <th>0~4세</th>\n",
       "      <th>5~9세</th>\n",
       "      <th>10~14세</th>\n",
       "      <th>15~19세</th>\n",
       "      <th>20~24세</th>\n",
       "      <th>25~29세</th>\n",
       "      <th>30~34세</th>\n",
       "      <th>35~39세</th>\n",
       "      <th>40~44세</th>\n",
       "      <th>45~49세</th>\n",
       "      <th>...</th>\n",
       "      <th>55~59세</th>\n",
       "      <th>60~64세</th>\n",
       "      <th>65~69세</th>\n",
       "      <th>70~74세</th>\n",
       "      <th>75~79세</th>\n",
       "      <th>80~84세</th>\n",
       "      <th>85~89세</th>\n",
       "      <th>90~94세</th>\n",
       "      <th>95~99세</th>\n",
       "      <th>100세 이상</th>\n",
       "    </tr>\n",
       "    <tr>\n",
       "      <th>행정기관</th>\n",
       "      <th></th>\n",
       "      <th></th>\n",
       "      <th></th>\n",
       "      <th></th>\n",
       "      <th></th>\n",
       "      <th></th>\n",
       "      <th></th>\n",
       "      <th></th>\n",
       "      <th></th>\n",
       "      <th></th>\n",
       "      <th></th>\n",
       "      <th></th>\n",
       "      <th></th>\n",
       "      <th></th>\n",
       "      <th></th>\n",
       "      <th></th>\n",
       "      <th></th>\n",
       "      <th></th>\n",
       "      <th></th>\n",
       "      <th></th>\n",
       "      <th></th>\n",
       "    </tr>\n",
       "  </thead>\n",
       "  <tbody>\n",
       "    <tr>\n",
       "      <th>전국</th>\n",
       "      <td>749,841</td>\n",
       "      <td>1,107,540</td>\n",
       "      <td>1,219,290</td>\n",
       "      <td>1,202,991</td>\n",
       "      <td>1,574,862</td>\n",
       "      <td>1,849,111</td>\n",
       "      <td>1,709,036</td>\n",
       "      <td>1,730,919</td>\n",
       "      <td>2,056,036</td>\n",
       "      <td>2,075,063</td>\n",
       "      <td>...</td>\n",
       "      <td>2,080,415</td>\n",
       "      <td>2,076,608</td>\n",
       "      <td>1,493,177</td>\n",
       "      <td>1,024,795</td>\n",
       "      <td>708,641</td>\n",
       "      <td>486,186</td>\n",
       "      <td>205,653</td>\n",
       "      <td>52,342</td>\n",
       "      <td>9,173</td>\n",
       "      <td>1,558</td>\n",
       "    </tr>\n",
       "  </tbody>\n",
       "</table>\n",
       "<p>1 rows × 21 columns</p>\n",
       "</div>"
      ],
      "text/plain": [
       "         0~4세       5~9세     10~14세     15~19세     20~24세     25~29세  \\\n",
       "행정기관                                                                   \n",
       "전국    749,841  1,107,540  1,219,290  1,202,991  1,574,862  1,849,111   \n",
       "\n",
       "         30~34세     35~39세     40~44세     45~49세  ...     55~59세     60~64세  \\\n",
       "행정기관                                              ...                         \n",
       "전국    1,709,036  1,730,919  2,056,036  2,075,063  ...  2,080,415  2,076,608   \n",
       "\n",
       "         65~69세     70~74세   75~79세   80~84세   85~89세  90~94세 95~99세 100세 이상  \n",
       "행정기관                                                                          \n",
       "전국    1,493,177  1,024,795  708,641  486,186  205,653  52,342  9,173   1,558  \n",
       "\n",
       "[1 rows x 21 columns]"
      ]
     },
     "execution_count": 10,
     "metadata": {},
     "output_type": "execute_result"
    }
   ],
   "source": [
    "df_m2 = pd.read_excel('202207_202207_연령별인구현황_월간.xlsx', index_col='행정기관', skiprows=3, usecols='B, E:Y')\n",
    "df_m2.head(1)"
   ]
  },
  {
   "cell_type": "code",
   "execution_count": 11,
   "id": "f46d7e1b",
   "metadata": {},
   "outputs": [],
   "source": [
    "df_m2.iloc[0] = df_m2.iloc[0].str.replace(',', '').astype(int)"
   ]
  },
  {
   "cell_type": "code",
   "execution_count": 12,
   "id": "1c088df7",
   "metadata": {},
   "outputs": [
    {
     "data": {
      "text/plain": [
       "0~4세        749841\n",
       "5~9세       1107540\n",
       "10~14세     1219290\n",
       "15~19세     1202991\n",
       "20~24세     1574862\n",
       "25~29세     1849111\n",
       "30~34세     1709036\n",
       "35~39세     1730919\n",
       "40~44세     2056036\n",
       "45~49세     2075063\n",
       "50~54세     2295413\n",
       "55~59세     2080415\n",
       "60~64세     2076608\n",
       "65~69세     1493177\n",
       "70~74세     1024795\n",
       "75~79세      708641\n",
       "80~84세      486186\n",
       "85~89세      205653\n",
       "90~94세       52342\n",
       "95~99세        9173\n",
       "100세 이상       1558\n",
       "Name: 전국  , dtype: object"
      ]
     },
     "execution_count": 12,
     "metadata": {},
     "output_type": "execute_result"
    }
   ],
   "source": [
    "df_m2.iloc[0]"
   ]
  },
  {
   "cell_type": "markdown",
   "id": "ea15e281",
   "metadata": {},
   "source": [
    "## 여성 데이터 정의"
   ]
  },
  {
   "cell_type": "code",
   "execution_count": 13,
   "id": "2f725684",
   "metadata": {},
   "outputs": [
    {
     "name": "stderr",
     "output_type": "stream",
     "text": [
      "C:\\Users\\SAMSUNG\\anaconda3\\lib\\site-packages\\openpyxl\\styles\\stylesheet.py:226: UserWarning: Workbook contains no default style, apply openpyxl's default\n",
      "  warn(\"Workbook contains no default style, apply openpyxl's default\")\n"
     ]
    },
    {
     "data": {
      "text/html": [
       "<div>\n",
       "<style scoped>\n",
       "    .dataframe tbody tr th:only-of-type {\n",
       "        vertical-align: middle;\n",
       "    }\n",
       "\n",
       "    .dataframe tbody tr th {\n",
       "        vertical-align: top;\n",
       "    }\n",
       "\n",
       "    .dataframe thead th {\n",
       "        text-align: right;\n",
       "    }\n",
       "</style>\n",
       "<table border=\"1\" class=\"dataframe\">\n",
       "  <thead>\n",
       "    <tr style=\"text-align: right;\">\n",
       "      <th></th>\n",
       "      <th>0~4세.1</th>\n",
       "      <th>5~9세.1</th>\n",
       "      <th>10~14세.1</th>\n",
       "      <th>15~19세.1</th>\n",
       "      <th>20~24세.1</th>\n",
       "      <th>25~29세.1</th>\n",
       "      <th>30~34세.1</th>\n",
       "      <th>35~39세.1</th>\n",
       "      <th>40~44세.1</th>\n",
       "      <th>45~49세.1</th>\n",
       "      <th>...</th>\n",
       "      <th>55~59세.1</th>\n",
       "      <th>60~64세.1</th>\n",
       "      <th>65~69세.1</th>\n",
       "      <th>70~74세.1</th>\n",
       "      <th>75~79세.1</th>\n",
       "      <th>80~84세.1</th>\n",
       "      <th>85~89세.1</th>\n",
       "      <th>90~94세.1</th>\n",
       "      <th>95~99세.1</th>\n",
       "      <th>100세 이상.1</th>\n",
       "    </tr>\n",
       "    <tr>\n",
       "      <th>행정기관</th>\n",
       "      <th></th>\n",
       "      <th></th>\n",
       "      <th></th>\n",
       "      <th></th>\n",
       "      <th></th>\n",
       "      <th></th>\n",
       "      <th></th>\n",
       "      <th></th>\n",
       "      <th></th>\n",
       "      <th></th>\n",
       "      <th></th>\n",
       "      <th></th>\n",
       "      <th></th>\n",
       "      <th></th>\n",
       "      <th></th>\n",
       "      <th></th>\n",
       "      <th></th>\n",
       "      <th></th>\n",
       "      <th></th>\n",
       "      <th></th>\n",
       "      <th></th>\n",
       "    </tr>\n",
       "  </thead>\n",
       "  <tbody>\n",
       "    <tr>\n",
       "      <th>전국</th>\n",
       "      <td>712,701</td>\n",
       "      <td>1,054,599</td>\n",
       "      <td>1,151,492</td>\n",
       "      <td>1,122,994</td>\n",
       "      <td>1,450,305</td>\n",
       "      <td>1,657,358</td>\n",
       "      <td>1,561,059</td>\n",
       "      <td>1,645,989</td>\n",
       "      <td>1,987,428</td>\n",
       "      <td>2,016,185</td>\n",
       "      <td>...</td>\n",
       "      <td>2,032,257</td>\n",
       "      <td>2,117,518</td>\n",
       "      <td>1,592,318</td>\n",
       "      <td>1,161,257</td>\n",
       "      <td>913,171</td>\n",
       "      <td>774,599</td>\n",
       "      <td>451,696</td>\n",
       "      <td>172,735</td>\n",
       "      <td>39,353</td>\n",
       "      <td>6,975</td>\n",
       "    </tr>\n",
       "  </tbody>\n",
       "</table>\n",
       "<p>1 rows × 21 columns</p>\n",
       "</div>"
      ],
      "text/plain": [
       "       0~4세.1     5~9세.1   10~14세.1   15~19세.1   20~24세.1   25~29세.1  \\\n",
       "행정기관                                                                   \n",
       "전국    712,701  1,054,599  1,151,492  1,122,994  1,450,305  1,657,358   \n",
       "\n",
       "       30~34세.1   35~39세.1   40~44세.1   45~49세.1  ...   55~59세.1   60~64세.1  \\\n",
       "행정기관                                              ...                         \n",
       "전국    1,561,059  1,645,989  1,987,428  2,016,185  ...  2,032,257  2,117,518   \n",
       "\n",
       "       65~69세.1   70~74세.1 75~79세.1 80~84세.1 85~89세.1 90~94세.1 95~99세.1  \\\n",
       "행정기관                                                                      \n",
       "전국    1,592,318  1,161,257  913,171  774,599  451,696  172,735   39,353   \n",
       "\n",
       "     100세 이상.1  \n",
       "행정기관            \n",
       "전국       6,975  \n",
       "\n",
       "[1 rows x 21 columns]"
      ]
     },
     "execution_count": 13,
     "metadata": {},
     "output_type": "execute_result"
    }
   ],
   "source": [
    "df_w2 = pd.read_excel('202207_202207_연령별인구현황_월간.xlsx', index_col='행정기관', skiprows=3, usecols='B, AB:AV')\n",
    "df_w2.head(1)"
   ]
  },
  {
   "cell_type": "code",
   "execution_count": 14,
   "id": "70d666a6",
   "metadata": {},
   "outputs": [],
   "source": [
    "df_w2.iloc[0] = df_w2.iloc[0].str.replace(',', '').astype(int)"
   ]
  },
  {
   "cell_type": "code",
   "execution_count": 15,
   "id": "bf16da8b",
   "metadata": {},
   "outputs": [
    {
     "data": {
      "text/plain": [
       "0~4세.1        712701\n",
       "5~9세.1       1054599\n",
       "10~14세.1     1151492\n",
       "15~19세.1     1122994\n",
       "20~24세.1     1450305\n",
       "25~29세.1     1657358\n",
       "30~34세.1     1561059\n",
       "35~39세.1     1645989\n",
       "40~44세.1     1987428\n",
       "45~49세.1     2016185\n",
       "50~54세.1     2243807\n",
       "55~59세.1     2032257\n",
       "60~64세.1     2117518\n",
       "65~69세.1     1592318\n",
       "70~74세.1     1161257\n",
       "75~79세.1      913171\n",
       "80~84세.1      774599\n",
       "85~89세.1      451696\n",
       "90~94세.1      172735\n",
       "95~99세.1       39353\n",
       "100세 이상.1       6975\n",
       "Name: 전국  , dtype: object"
      ]
     },
     "execution_count": 15,
     "metadata": {},
     "output_type": "execute_result"
    }
   ],
   "source": [
    "df_w2.iloc[0]"
   ]
  },
  {
   "cell_type": "markdown",
   "id": "9501c42f",
   "metadata": {},
   "source": [
    "## 데이터 시각화"
   ]
  },
  {
   "cell_type": "code",
   "execution_count": 16,
   "id": "b17c6028",
   "metadata": {},
   "outputs": [
    {
     "data": {
      "image/png": "[encoded data removed]",
      "text/plain": [
       "<Figure size 720x504 with 1 Axes>"
      ]
     },
     "metadata": {
      "needs_background": "light"
     },
     "output_type": "display_data"
    }
   ],
   "source": [
    "plt.figure(figsize=(10, 7))\n",
    "plt.barh(df_m2.columns, -df_m2.iloc[0] // 1000, label='남성')\n",
    "plt.barh(df_m2.columns, df_w2.iloc[0] // 1000, label='여성')\n",
    "plt.title('2022년 7월 대한민국 인구 피라미드')\n",
    "plt.legend()\n",
    "plt.savefig('202207_인구피라미드.png', dpi=100)\n",
    "plt.show()"
   ]
  }
 ],
 "metadata": {
  "kernelspec": {
   "display_name": "Python 3 (ipykernel)",
   "language": "python",
   "name": "python3"
  },
  "language_info": {
   "codemirror_mode": {
    "name": "ipython",
    "version": 3
   },
   "file_extension": ".py",
   "mimetype": "text/x-python",
   "name": "python",
   "nbconvert_exporter": "python",
   "pygments_lexer": "ipython3",
   "version": "3.9.12"
  }
 },
 "nbformat": 4,
 "nbformat_minor": 5
}
